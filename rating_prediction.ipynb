{
 "cells": [
  {
   "cell_type": "code",
   "execution_count": 1,
   "metadata": {},
   "outputs": [],
   "source": [
    "\n",
    "import gzip\n",
    "from collections import defaultdict\n",
    "import math\n",
    "import operator\n",
    "import scipy.optimize\n",
    "from sklearn import svm\n",
    "import numpy as np\n",
    "import string\n",
    "import random\n",
    "import string\n",
    "from sklearn import linear_model\n",
    "import warnings\n",
    "from nltk.corpus import stopwords\n",
    "from nltk.tokenize import word_tokenize\n",
    "import nltk\n",
    "import scipy\n",
    "import pandas as pd\n",
    "import numpy as np\n",
    "from matplotlib import pyplot as plt\n",
    "import numpy as np\n",
    "class Utilites:\n",
    "    def readGz(path):\n",
    "        for l in gzip.open(path, 'rt',encoding='utf-8'):\n",
    "            yield eval(l)\n",
    "\n",
    "    def punctuations():\n",
    "        return set(string.punctuation)\n",
    "\n",
    "    def readCSV(path):\n",
    "        f = gzip.open(path, 'rt')\n",
    "        f.readline()\n",
    "        for l in f:\n",
    "            u, b, r = l.strip().split(',')\n",
    "            r = int(r)\n",
    "            yield u, b, r\n",
    "\n",
    "    def Cosine(x1, x2):\n",
    "        numer = 0\n",
    "        norm1 = 0\n",
    "        norm2 = 0\n",
    "        for a1, a2 in zip(x1, x2):\n",
    "            numer += a1*a2\n",
    "            norm1 += a1**2\n",
    "            norm2 += a2**2\n",
    "        if norm1*norm2:\n",
    "            return numer / math.sqrt(norm1*norm2)\n",
    "        return 0\n",
    "\n",
    "    def calcAcc(y, predY):\n",
    "        assert( len(y) == len(predY))\n",
    "        correct = np.array(y) == np.array(predY)\n",
    "        return sum(correct) / len(correct)\n",
    "    \n",
    "\n"
   ]
  },
  {
   "cell_type": "code",
   "execution_count": 2,
   "metadata": {},
   "outputs": [],
   "source": [
    "users_review_data = []\n",
    "reviews_data = []\n",
    "users_items_data = []\n",
    "items_data = []\n",
    "bundle_data = []\n",
    "\n",
    "for d in Utilites.readGz(\"user_reviews.json.gz\"):\n",
    "    users_review_data.append(d)\n",
    "\n",
    "#for d in Utilites.readGz(\"/work/steam_reviews.json.gz\"):\n",
    "    #reviews_data.append(d)\n",
    "\n",
    "for d in Utilites.readGz(\"users_items.json.gz\"):\n",
    "    users_items_data.append(d)\n",
    "\n",
    "for d in Utilites.readGz(\"steam_games.json.gz\"):\n",
    "    items_data.append(d)\n",
    "\n",
    "for d in Utilites.readGz(\"bundle_data.json.gz\"):\n",
    "    bundle_data.append(d)"
   ]
  },
  {
   "cell_type": "code",
   "execution_count": 3,
   "metadata": {},
   "outputs": [],
   "source": [
    "users_items_train = []\n",
    "users_items_validation = []\n",
    "users_items_test = []\n",
    "users_per_item_train = defaultdict(set)\n",
    "items_per_user_train = defaultdict(set)\n",
    "times_per_game = defaultdict(list)\n",
    "\n",
    "for d in users_items_data:\n",
    "    games_played_by_user = [ game for game in d['items'] if game['playtime_forever'] > 0]\n",
    "    random.shuffle(games_played_by_user)\n",
    "\n",
    "    for i in range(len(games_played_by_user)):\n",
    "        times_per_game[games_played_by_user[i]['item_id']].append(\n",
    "            games_played_by_user[i]['playtime_forever'])\n",
    "\n",
    "        if(i < len(games_played_by_user) * 0.6):\n",
    "            users_items_train.append((d['user_id'], games_played_by_user[i]))\n",
    "            items_per_user_train[d['user_id']].add((games_played_by_user[i]['item_id'],games_played_by_user[i]['playtime_forever'],games_played_by_user[i]['playtime_2weeks']))\n",
    "            users_per_item_train[games_played_by_user[i]['item_id']].add((d['user_id'],games_played_by_user[i]['playtime_forever'],games_played_by_user[i]['playtime_2weeks']))\n",
    "\n",
    "        elif(i < len(games_played_by_user) * 0.8):\n",
    "            users_items_validation.append((d['user_id'], games_played_by_user[i]))\n",
    "        else:\n",
    "            users_items_test.append((d['user_id'], games_played_by_user[i]))\n",
    "\n",
    "games = defaultdict()\n",
    "for d in items_data:\n",
    "    if(d.__contains__('id')):\n",
    "        games[d['id']] = d\n",
    "    else:\n",
    "        if(d['url'].split('/')[-1] != ''):\n",
    "            games[d['url'].split('/')[-1]] = d\n"
   ]
  },
  {
   "cell_type": "code",
   "execution_count": 4,
   "metadata": {},
   "outputs": [],
   "source": [
    "def prep_data(data):\n",
    "    x =[]\n",
    "    y = []\n",
    "    for user,gameInfo in data:\n",
    "        if(gameInfo['playtime_forever'] <= 45): y.append(0)\n",
    "        elif(gameInfo['playtime_forever'] <= 220): y.append(1)\n",
    "        elif(gameInfo['playtime_forever'] <= 840): y.append(2)\n",
    "        else: y.append(3)\n",
    "        x.append((user,gameInfo['item_id']))\n",
    "    return x, y"
   ]
  },
  {
   "attachments": {},
   "cell_type": "markdown",
   "metadata": {},
   "source": [
    "#### Visualize the distribution of data (time played by player)"
   ]
  },
  {
   "cell_type": "code",
   "execution_count": 5,
   "metadata": {},
   "outputs": [
    {
     "data": {
      "text/plain": [
       "Text(0, 0.5, 'Number of players')"
      ]
     },
     "execution_count": 5,
     "metadata": {},
     "output_type": "execute_result"
    },
    {
     "data": {
      "image/png": "[encoded data removed]",
      "text/plain": [
       "<Figure size 1000x700 with 1 Axes>"
      ]
     },
     "metadata": {},
     "output_type": "display_data"
    }
   ],
   "source": [
    "trainX, trainY = prep_data(users_items_train)\n",
    "valX, valY = prep_data(users_items_validation)\n",
    "testX, testY = prep_data(users_items_test)\n",
    "a = np.array(trainY)\n",
    "plot, ax= plt.subplots(figsize =(10, 7))\n",
    "threshold = []\n",
    "for i in range(0,6,1):\n",
    "    threshold.append(i)\n",
    "plt.hist(a, bins=threshold,color = \"lightblue\", ec=\"red\")\n",
    "ax.set_xlabel(\"Play frequency\")\n",
    "ax.set_ylabel(\"Number of players\")\n"
   ]
  },
  {
   "cell_type": "code",
   "execution_count": 6,
   "metadata": {},
   "outputs": [],
   "source": [
    "timesPerGameMean = {}\n",
    "timesPerGameMedian = {}\n",
    "timesPerCategory = defaultdict(list)\n",
    "for game in times_per_game:\n",
    "    timesPerGameMean[game] = np.mean(times_per_game[game])\n",
    "    timesPerGameMedian[game] = np.median(times_per_game[game])\n",
    "    if(game in games and 'genres' in games[game]):\n",
    "        genres = games[game]['genres']\n",
    "        for gameCategory in genres:\n",
    "            timesPerCategory[gameCategory] += times_per_game[game]"
   ]
  },
  {
   "cell_type": "code",
   "execution_count": 7,
   "metadata": {},
   "outputs": [],
   "source": [
    "timesPerTag = defaultdict(list)\n",
    "for game in times_per_game:\n",
    "    if(game in games and 'tags' in games[game]):\n",
    "        genres = games[game]['tags']\n",
    "        for gameCategory in genres:\n",
    "            if(len(times_per_game) > 0):\n",
    "                timesPerTag[gameCategory] += times_per_game[game]"
   ]
  },
  {
   "cell_type": "code",
   "execution_count": 8,
   "metadata": {},
   "outputs": [],
   "source": [
    "timesPerCategoryMean = {}\n",
    "timesPerCategoryMedian = {}\n",
    "timesPerTagMean = {}\n",
    "timesPerTageMedian = {}\n",
    "\n",
    "for cat in timesPerCategory:\n",
    "    timesPerCategoryMean[cat] = np.mean([ x for x in timesPerCategory[cat]])\n",
    "    timesPerCategoryMedian[cat] = np.median([ x for x in timesPerCategory[cat]])"
   ]
  },
  {
   "cell_type": "code",
   "execution_count": 9,
   "metadata": {},
   "outputs": [],
   "source": [
    "for tag in timesPerTag:\n",
    "    timesPerTagMean[tag] = np.mean([ x for x in timesPerTag[tag]])\n",
    "    timesPerTageMedian[tag] = np.median([ x for x in timesPerTag[tag]])"
   ]
  },
  {
   "cell_type": "code",
   "execution_count": 10,
   "metadata": {},
   "outputs": [],
   "source": [
    "sortTagMean = sorted(timesPerTagMean.items(), key=lambda x: x[1], reverse=True)\n",
    "sortTagMedian = sorted(timesPerTageMedian.items(), key=lambda x: x[1], reverse=True)\n"
   ]
  },
  {
   "cell_type": "code",
   "execution_count": 11,
   "metadata": {},
   "outputs": [
    {
     "data": {
      "image/png": "[encoded data removed]",
      "text/plain": [
       "<Figure size 5000x500 with 1 Axes>"
      ]
     },
     "metadata": {},
     "output_type": "display_data"
    }
   ],
   "source": [
    "courses = list(timesPerCategoryMean.keys())\n",
    "values = list(timesPerCategoryMean.values())\n",
    "fig = plt.figure(figsize = (50, 5))\n",
    "\n",
    "# creating the bar plot\n",
    "plt.bar(courses, values, color ='maroon',\n",
    "        width = 0.4)\n",
    " \n",
    "plt.show()  "
   ]
  },
  {
   "cell_type": "code",
   "execution_count": 12,
   "metadata": {},
   "outputs": [
    {
     "data": {
      "image/png": "[encoded data removed]",
      "text/plain": [
       "<Figure size 5000x500 with 1 Axes>"
      ]
     },
     "metadata": {},
     "output_type": "display_data"
    }
   ],
   "source": [
    "courses = list(timesPerCategoryMedian.keys())\n",
    "values = list(timesPerCategoryMedian.values())\n",
    "fig = plt.figure(figsize = (50, 5))\n",
    "\n",
    "# creating the bar plot\n",
    "plt.bar(courses, values, color ='maroon',\n",
    "        width = 0.4)\n",
    " \n",
    "plt.show()  "
   ]
  },
  {
   "cell_type": "code",
   "execution_count": 13,
   "metadata": {},
   "outputs": [],
   "source": [
    "def evalModel(model, dataX, dataY, args=[]):\n",
    "    predY = model(dataX,args)\n",
    "    acc = Utilites.calcAcc(predY, dataY)\n",
    "    return acc"
   ]
  },
  {
   "attachments": {},
   "cell_type": "markdown",
   "metadata": {},
   "source": [
    "##### Trivial Predictor (always predict that a user never plays the game)"
   ]
  },
  {
   "cell_type": "code",
   "execution_count": 14,
   "metadata": {},
   "outputs": [],
   "source": [
    "# Always predict that a user will never play a game\n",
    "def modelPredTrivial(data, args={}):\n",
    "    y_pred = [0] * len(data)\n",
    "    return y_pred"
   ]
  },
  {
   "attachments": {},
   "cell_type": "markdown",
   "metadata": {},
   "source": [
    "##### Predict based on popularity of game (distance to mean time played)"
   ]
  },
  {
   "cell_type": "code",
   "execution_count": 15,
   "metadata": {},
   "outputs": [],
   "source": [
    "def modelPredPopularityDifference(data,args={'mode':\"mean\"}):\n",
    "    y_pred = []\n",
    "    threshold = np.array([45,220,840,1460])\n",
    "    for user, item in data:\n",
    "        if(args['mode'] == \"mean\"):\n",
    "            avg_time = timesPerGameMean[item]\n",
    "        else:\n",
    "            avg_time = timesPerGameMedian[item]\n",
    "        diff = np.abs(threshold - avg_time)\n",
    "        y_pred.append(np.argmin(diff))\n",
    "    return y_pred"
   ]
  },
  {
   "attachments": {},
   "cell_type": "markdown",
   "metadata": {},
   "source": [
    "##### Predict based on popularity of game (based on paritcular threashold from mean time played)\n"
   ]
  },
  {
   "cell_type": "code",
   "execution_count": 16,
   "metadata": {},
   "outputs": [],
   "source": [
    "def modelPredPopularityThreashold(data, args={'mode':\"mean\"}):\n",
    "    y_pred = []\n",
    "    for user, item in data:\n",
    "        if(args['mode'] == \"mean\"):\n",
    "            avg_time = timesPerGameMean[item]\n",
    "        else:\n",
    "            avg_time = timesPerGameMedian[item]\n",
    "        if(avg_time <= 45): y_pred.append(0)\n",
    "        elif(avg_time <= 220): y_pred.append(1)\n",
    "        elif(avg_time<= 840): y_pred.append(2)\n",
    "        else: y_pred.append(3)\n",
    "    return y_pred"
   ]
  },
  {
   "cell_type": "code",
   "execution_count": 17,
   "metadata": {},
   "outputs": [],
   "source": [
    "def modelPredByPlayerTime(data, args={'mode':\"median\"}):\n",
    "    y_pred = []\n",
    "    for user, item in data:\n",
    "        avg_time = np.median([playtime for gameId, playtime, _ in  items_per_user_train[user]])\n",
    "        if(avg_time <= 45): y_pred.append(0)\n",
    "        elif(avg_time <= 220): y_pred.append(1)\n",
    "        elif(avg_time<= 840): y_pred.append(2)\n",
    "        else: y_pred.append(2)\n",
    "    return y_pred"
   ]
  },
  {
   "attachments": {},
   "cell_type": "markdown",
   "metadata": {},
   "source": [
    "### Baseline prediction"
   ]
  },
  {
   "cell_type": "code",
   "execution_count": 18,
   "metadata": {},
   "outputs": [
    {
     "name": "stdout",
     "output_type": "stream",
     "text": [
      "Popularity predictor(difference) acc: 0.4124727432697912\n",
      "Popularity predictor(threashold) acc: 0.38332531314469215\n",
      "Trivial predictor acc: 0.25347448865341826\n"
     ]
    }
   ],
   "source": [
    "args = {\"mode\":\"mean\"}\n",
    "# Predict based on popularity\n",
    "print(f'Popularity predictor(difference) acc: {evalModel(modelPredPopularityDifference,testX,testY,args)}')\n",
    "\n",
    "# Predict based on popularity\n",
    "print(f'Popularity predictor(threashold) acc: {evalModel(modelPredPopularityThreashold,testX,testY,args)}')\n",
    "\n",
    "print(f'Player Popularity predictor(threashold) acc: {evalModel(modelPredByPlayerTime,testX,testY,args)}')\n",
    "\n",
    "# Predict that a player that bought the game will never play it\n",
    "print(f'Trivial predictor acc: {evalModel(modelPredTrivial,testX,testY,args)}')"
   ]
  },
  {
   "cell_type": "code",
   "execution_count": 19,
   "metadata": {},
   "outputs": [
    {
     "name": "stdout",
     "output_type": "stream",
     "text": [
      "Popularity predictor(difference) acc: 0.39367691503840957\n",
      "Popularity predictor(threashold) acc: 0.42609435871048074\n",
      "Trivial predictor acc: 0.25347448865341826\n"
     ]
    }
   ],
   "source": [
    "args = {\"mode\":\"median\"}\n",
    "\n",
    "# Predict based on popularity\n",
    "print(f'Popularity predictor(difference) acc: {evalModel(modelPredPopularityDifference,testX,testY,args)}')\n",
    "\n",
    "# Predict based on popularity\n",
    "print(f'Popularity predictor(threashold) acc: {evalModel(modelPredPopularityThreashold,testX,testY,args)}')\n",
    "\n",
    "print(f'Player Popularity predictor(threashold) acc: {evalModel(modelPredByPlayerTime,testX,testY,args)}')\n",
    "\n",
    "# Predict that a player that bought the game will never play it\n",
    "print(f'Trivial predictor acc: {evalModel(modelPredTrivial,testX,testY,args)}')\n"
   ]
  },
  {
   "cell_type": "code",
   "execution_count": 20,
   "metadata": {},
   "outputs": [
    {
     "name": "stdout",
     "output_type": "stream",
     "text": [
      "Popularity predictor(threashold) acc: 0.29289411286390615\n"
     ]
    }
   ],
   "source": []
  },
  {
   "attachments": {},
   "cell_type": "markdown",
   "metadata": {},
   "source": [
    "### Classifier prediction"
   ]
  },
  {
   "cell_type": "code",
   "execution_count": 21,
   "metadata": {},
   "outputs": [],
   "source": [
    "all_genres = np.array(list(timesPerCategory.keys()))\n",
    "genres = {}"
   ]
  },
  {
   "cell_type": "code",
   "execution_count": 22,
   "metadata": {},
   "outputs": [],
   "source": [
    "for x in range(len(all_genres)):\n",
    "    genres[all_genres[x]] = x"
   ]
  },
  {
   "cell_type": "code",
   "execution_count": 23,
   "metadata": {},
   "outputs": [],
   "source": [
    "size = len(genres)\n",
    "def oneHotEncodeCat(data):\n",
    "    encode = np.zeros(size)\n",
    "    for x in data:\n",
    "        encode[genres[x]] = 1\n",
    "    return encode"
   ]
  },
  {
   "cell_type": "code",
   "execution_count": 24,
   "metadata": {},
   "outputs": [],
   "source": [
    "def prep_features(data):\n",
    "    user = data[0]\n",
    "    item = data[1]\n",
    "    ## Genres of item\n",
    "    if(item in games and 'genres' in games[item]):\n",
    "        feat = oneHotEncodeCat(games[item]['genres'])\n",
    "    else:\n",
    "        feat = np.zeros(size)\n",
    "    # Gloabal mean playtime for item\n",
    "    feat = np.append(feat, timesPerGameMedian[item])\n",
    "\n",
    "    # Avg play time for player\n",
    "    feat = np.append(feat,np.median([playtime for gameId, playtime, _ in  items_per_user_train[user]]))\n",
    "    \n",
    "    # Bias term\n",
    "    feat = np.append(feat, 1)\n",
    "    return feat"
   ]
  },
  {
   "cell_type": "code",
   "execution_count": 25,
   "metadata": {},
   "outputs": [],
   "source": [
    "train_X = [ prep_features(d) for d in trainX ]"
   ]
  },
  {
   "cell_type": "code",
   "execution_count": 26,
   "metadata": {},
   "outputs": [],
   "source": [
    "val_X = [ prep_features(d) for d in valX ]"
   ]
  },
  {
   "cell_type": "code",
   "execution_count": 27,
   "metadata": {},
   "outputs": [
    {
     "name": "stderr",
     "output_type": "stream",
     "text": [
      "[Parallel(n_jobs=1)]: Using backend SequentialBackend with 1 concurrent workers.\n",
      "[Parallel(n_jobs=1)]: Done   1 out of   1 | elapsed:  2.6min finished\n"
     ]
    },
    {
     "data": {
      "text/html": [
       "<style>#sk-container-id-1 {color: black;background-color: white;}#sk-container-id-1 pre{padding: 0;}#sk-container-id-1 div.sk-toggleable {background-color: white;}#sk-container-id-1 label.sk-toggleable__label {cursor: pointer;display: block;width: 100%;margin-bottom: 0;padding: 0.3em;box-sizing: border-box;text-align: center;}#sk-container-id-1 label.sk-toggleable__label-arrow:before {content: \"▸\";float: left;margin-right: 0.25em;color: #696969;}#sk-container-id-1 label.sk-toggleable__label-arrow:hover:before {color: black;}#sk-container-id-1 div.sk-estimator:hover label.sk-toggleable__label-arrow:before {color: black;}#sk-container-id-1 div.sk-toggleable__content {max-height: 0;max-width: 0;overflow: hidden;text-align: left;background-color: #f0f8ff;}#sk-container-id-1 div.sk-toggleable__content pre {margin: 0.2em;color: black;border-radius: 0.25em;background-color: #f0f8ff;}#sk-container-id-1 input.sk-toggleable__control:checked~div.sk-toggleable__content {max-height: 200px;max-width: 100%;overflow: auto;}#sk-container-id-1 input.sk-toggleable__control:checked~label.sk-toggleable__label-arrow:before {content: \"▾\";}#sk-container-id-1 div.sk-estimator input.sk-toggleable__control:checked~label.sk-toggleable__label {background-color: #d4ebff;}#sk-container-id-1 div.sk-label input.sk-toggleable__control:checked~label.sk-toggleable__label {background-color: #d4ebff;}#sk-container-id-1 input.sk-hidden--visually {border: 0;clip: rect(1px 1px 1px 1px);clip: rect(1px, 1px, 1px, 1px);height: 1px;margin: -1px;overflow: hidden;padding: 0;position: absolute;width: 1px;}#sk-container-id-1 div.sk-estimator {font-family: monospace;background-color: #f0f8ff;border: 1px dotted black;border-radius: 0.25em;box-sizing: border-box;margin-bottom: 0.5em;}#sk-container-id-1 div.sk-estimator:hover {background-color: #d4ebff;}#sk-container-id-1 div.sk-parallel-item::after {content: \"\";width: 100%;border-bottom: 1px solid gray;flex-grow: 1;}#sk-container-id-1 div.sk-label:hover label.sk-toggleable__label {background-color: #d4ebff;}#sk-container-id-1 div.sk-serial::before {content: \"\";position: absolute;border-left: 1px solid gray;box-sizing: border-box;top: 0;bottom: 0;left: 50%;z-index: 0;}#sk-container-id-1 div.sk-serial {display: flex;flex-direction: column;align-items: center;background-color: white;padding-right: 0.2em;padding-left: 0.2em;position: relative;}#sk-container-id-1 div.sk-item {position: relative;z-index: 1;}#sk-container-id-1 div.sk-parallel {display: flex;align-items: stretch;justify-content: center;background-color: white;position: relative;}#sk-container-id-1 div.sk-item::before, #sk-container-id-1 div.sk-parallel-item::before {content: \"\";position: absolute;border-left: 1px solid gray;box-sizing: border-box;top: 0;bottom: 0;left: 50%;z-index: -1;}#sk-container-id-1 div.sk-parallel-item {display: flex;flex-direction: column;z-index: 1;position: relative;background-color: white;}#sk-container-id-1 div.sk-parallel-item:first-child::after {align-self: flex-end;width: 50%;}#sk-container-id-1 div.sk-parallel-item:last-child::after {align-self: flex-start;width: 50%;}#sk-container-id-1 div.sk-parallel-item:only-child::after {width: 0;}#sk-container-id-1 div.sk-dashed-wrapped {border: 1px dashed gray;margin: 0 0.4em 0.5em 0.4em;box-sizing: border-box;padding-bottom: 0.4em;background-color: white;}#sk-container-id-1 div.sk-label label {font-family: monospace;font-weight: bold;display: inline-block;line-height: 1.2em;}#sk-container-id-1 div.sk-label-container {text-align: center;}#sk-container-id-1 div.sk-container {/* jupyter's `normalize.less` sets `[hidden] { display: none; }` but bootstrap.min.css set `[hidden] { display: none !important; }` so we also need the `!important` here to be able to override the default hidden behavior on the sphinx rendered scikit-learn.org. See: https://github.com/scikit-learn/scikit-learn/issues/21755 */display: inline-block !important;position: relative;}#sk-container-id-1 div.sk-text-repr-fallback {display: none;}</style><div id=\"sk-container-id-1\" class=\"sk-top-container\"><div class=\"sk-text-repr-fallback\"><pre>LogisticRegression(max_iter=1000, verbose=1)</pre><b>In a Jupyter environment, please rerun this cell to show the HTML representation or trust the notebook. <br />On GitHub, the HTML representation is unable to render, please try loading this page with nbviewer.org.</b></div><div class=\"sk-container\" hidden><div class=\"sk-item\"><div class=\"sk-estimator sk-toggleable\"><input class=\"sk-toggleable__control sk-hidden--visually\" id=\"sk-estimator-id-1\" type=\"checkbox\" checked><label for=\"sk-estimator-id-1\" class=\"sk-toggleable__label sk-toggleable__label-arrow\">LogisticRegression</label><div class=\"sk-toggleable__content\"><pre>LogisticRegression(max_iter=1000, verbose=1)</pre></div></div></div></div></div>"
      ],
      "text/plain": [
       "LogisticRegression(max_iter=1000, verbose=1)"
      ]
     },
     "execution_count": 27,
     "metadata": {},
     "output_type": "execute_result"
    }
   ],
   "source": [
    "clf=linear_model.LogisticRegression( max_iter=1000,  verbose=1)\n",
    "clf.fit(train_X, trainY)"
   ]
  },
  {
   "cell_type": "code",
   "execution_count": 28,
   "metadata": {},
   "outputs": [],
   "source": [
    "predY = clf.predict(val_X)"
   ]
  },
  {
   "cell_type": "code",
   "execution_count": 29,
   "metadata": {},
   "outputs": [
    {
     "data": {
      "text/plain": [
       "array([0, 1, 2, 3])"
      ]
     },
     "execution_count": 29,
     "metadata": {},
     "output_type": "execute_result"
    }
   ],
   "source": [
    "np.unique(predY)"
   ]
  },
  {
   "cell_type": "code",
   "execution_count": 30,
   "metadata": {},
   "outputs": [
    {
     "data": {
      "text/plain": [
       "0.42157826176383206"
      ]
     },
     "execution_count": 30,
     "metadata": {},
     "output_type": "execute_result"
    }
   ],
   "source": [
    "Utilites.calcAcc(predY, valY)"
   ]
  },
  {
   "attachments": {},
   "cell_type": "markdown",
   "metadata": {},
   "source": [
    "### Deep learning model with muli-layer neuron network"
   ]
  },
  {
   "cell_type": "code",
   "execution_count": 31,
   "metadata": {},
   "outputs": [
    {
     "name": "stderr",
     "output_type": "stream",
     "text": [
      "c:\\Python310\\lib\\site-packages\\tqdm\\auto.py:22: TqdmWarning: IProgress not found. Please update jupyter and ipywidgets. See https://ipywidgets.readthedocs.io/en/stable/user_install.html\n",
      "  from .autonotebook import tqdm as notebook_tqdm\n"
     ]
    }
   ],
   "source": [
    "import torch.nn as nn\n",
    "import torch\n",
    "import numpy as np\n",
    "import torch\n",
    "from torch.utils.data import Dataset, DataLoader\n",
    "# number of features (len of X cols)\n",
    "input_dim = len(train_X[0])\n",
    "# number of hidden layers\n",
    "hidden_layers = 25\n",
    "# number of classes (unique of y)\n",
    "output_dim = 4\n",
    "class Network(nn.Module):\n",
    "  def __init__(self):\n",
    "    super(Network, self).__init__()\n",
    "    self.linear1 = nn.Linear(input_dim, hidden_layers)\n",
    "    self.linear2 = nn.Linear(hidden_layers, output_dim)\n",
    "  def forward(self, x):\n",
    "    x = torch.sigmoid(self.linear1(x))\n",
    "    x = self.linear2(x)\n",
    "    return x"
   ]
  },
  {
   "cell_type": "code",
   "execution_count": 46,
   "metadata": {},
   "outputs": [],
   "source": [
    "class Data(Dataset):\n",
    "    def __init__(self, X_train, y_train):\n",
    "        # need to convert float64 to float32 else \n",
    "        # will get the following error\n",
    "        # RuntimeError: expected scalar type Double but found Float\n",
    "        self.X = torch.from_numpy(X_train.astype(np.float32))\n",
    "        # need to convert float64 to Long else \n",
    "        # will get the following error\n",
    "        # RuntimeError: expected scalar type Long but found Float\n",
    "        self.y = torch.from_numpy(y_train).type(torch.LongTensor)\n",
    "        self.len = self.X.shape[0]\n",
    "  \n",
    "    def __getitem__(self, index):\n",
    "        return self.X[index], self.y[index]\n",
    "    def __len__(self):\n",
    "        return self.len"
   ]
  },
  {
   "cell_type": "code",
   "execution_count": 58,
   "metadata": {},
   "outputs": [],
   "source": [
    "traindata = Data(np.array(train_X), np.array(trainY))"
   ]
  },
  {
   "cell_type": "code",
   "execution_count": 72,
   "metadata": {},
   "outputs": [
    {
     "data": {
      "text/plain": [
       "(tensor([1.0000e+00, 1.0000e+00, 0.0000e+00, 0.0000e+00, 0.0000e+00, 0.0000e+00,\n",
       "         0.0000e+00, 0.0000e+00, 0.0000e+00, 0.0000e+00, 0.0000e+00, 0.0000e+00,\n",
       "         0.0000e+00, 0.0000e+00, 0.0000e+00, 0.0000e+00, 0.0000e+00, 0.0000e+00,\n",
       "         0.0000e+00, 0.0000e+00, 0.0000e+00, 1.3840e+03, 2.4600e+02, 1.0000e+00]),\n",
       " tensor(1))"
      ]
     },
     "execution_count": 72,
     "metadata": {},
     "output_type": "execute_result"
    }
   ],
   "source": [
    "traindata[0]"
   ]
  },
  {
   "cell_type": "code",
   "execution_count": 59,
   "metadata": {},
   "outputs": [],
   "source": [
    "clasifier = Network().cuda()\n",
    "criterion = nn.CrossEntropyLoss().cuda()\n",
    "optimizer = torch.optim.SGD(clasifier.parameters(), lr=0.1)"
   ]
  },
  {
   "cell_type": "code",
   "execution_count": 75,
   "metadata": {},
   "outputs": [],
   "source": [
    "batch_size = 4\n",
    "trainloader = DataLoader(traindata, batch_size=batch_size, \n",
    "                         shuffle=True, num_workers=0)"
   ]
  },
  {
   "cell_type": "code",
   "execution_count": null,
   "metadata": {},
   "outputs": [],
   "source": [
    "epochs = 2\n",
    "for epoch in range(epochs):\n",
    "  running_loss = 0.0\n",
    "  for data in enumerate(trainloader):\n",
    "    labels, inputs = data\n",
    "    print(labels)\n",
    "    inputs = inputs.cuda()\n",
    "    # set optimizer to zero grad to remove previous epoch gradients\n",
    "    optimizer.zero_grad()\n",
    "    # forward propagation\n",
    "    outputs = clasifier(inputs)\n",
    "    loss = criterion(outputs, labels)\n",
    "    # backward propagation\n",
    "    loss.backward()\n",
    "    # optimize\n",
    "    optimizer.step()\n",
    "    running_loss += loss.item()\n",
    "  # display statistics\n",
    "  print(f'[{epoch + 1}, {i + 1:5d}] loss: {running_loss / 2000:.5f}')"
   ]
  }
 ],
 "metadata": {
  "kernelspec": {
   "display_name": "Python 3.10.4 64-bit",
   "language": "python",
   "name": "python3"
  },
  "language_info": {
   "codemirror_mode": {
    "name": "ipython",
    "version": 3
   },
   "file_extension": ".py",
   "mimetype": "text/x-python",
   "name": "python",
   "nbconvert_exporter": "python",
   "pygments_lexer": "ipython3",
   "version": "3.10.4"
  },
  "orig_nbformat": 4,
  "vscode": {
   "interpreter": {
    "hash": "369f2c481f4da34e4445cda3fffd2e751bd1c4d706f27375911949ba6bb62e1c"
   }
  }
 },
 "nbformat": 4,
 "nbformat_minor": 2
}
